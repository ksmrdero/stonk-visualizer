{
 "cells": [
  {
   "cell_type": "code",
   "execution_count": 1,
   "metadata": {},
   "outputs": [],
   "source": [
    "import twitter\n",
    "api_key = \"hSRo8Qzpisjny0tHxiwgLmARc\"\n",
    "secret_key = \"sjchcV9k6cVKL8tvhmoWAZk0X1goayiIyZF272zSTXoT10ZjNO\"\n",
    "bearer_token = \"AAAAAAAAAAAAAAAAAAAAAMdWPAEAAAAAtKCKcmghy%2BtURo1%2FNSu642EC6pk%3DnIdNiQZLHBSMzgpUbBldmtNbi8tDLQCoDO3Zbm9ULTtHMpCAwc\"\n",
    "access_token = \"1327408007412637696-Op2eyy7CdeoMwWL4t3hyka93j2Nsn2\"\n",
    "access_token_secret = \"laX2RvuanrbWOsRsJ78jzYoIXGZl8f68tD52uzZKwm3v0\"\n",
    "\n",
    "api = twitter.Api(consumer_key=api_key, consumer_secret=secret_key, access_token_key=access_token, access_token_secret=access_token_secret)"
   ]
  },
  {
   "cell_type": "code",
   "execution_count": 2,
   "metadata": {},
   "outputs": [],
   "source": [
    "def get_tweets(api=None, screen_name=None):\n",
    "    timeline = api.GetUserTimeline(screen_name=screen_name, count=200)\n",
    "    earliest_tweet = min(timeline, key=lambda x: x.id).id\n",
    "    print(\"getting tweets before:\", earliest_tweet)\n",
    "\n",
    "    while True:\n",
    "        try:\n",
    "            tweets = api.GetUserTimeline(\n",
    "                screen_name=screen_name, max_id=earliest_tweet, count=200\n",
    "            )\n",
    "            new_earliest = min(tweets, key=lambda x: x.id).id\n",
    "\n",
    "            if not tweets or new_earliest == earliest_tweet:\n",
    "                break\n",
    "            else:\n",
    "                earliest_tweet = new_earliest\n",
    "                print(\"getting tweets before:\", earliest_tweet)\n",
    "                timeline += tweets\n",
    "        except:\n",
    "            break\n",
    "\n",
    "    return timeline\n"
   ]
  },
  {
   "cell_type": "code",
   "execution_count": 3,
   "metadata": {},
   "outputs": [
    {
     "ename": "ValueError",
     "evalue": "min() arg is an empty sequence",
     "output_type": "error",
     "traceback": [
      "\u001b[1;31m---------------------------------------------------------------------------\u001b[0m",
      "\u001b[1;31mValueError\u001b[0m                                Traceback (most recent call last)",
      "\u001b[1;32m<ipython-input-3-d3ab4784aa93>\u001b[0m in \u001b[0;36m<module>\u001b[1;34m\u001b[0m\n\u001b[0;32m      2\u001b[0m \u001b[0mtimelines\u001b[0m \u001b[1;33m=\u001b[0m \u001b[1;33m{\u001b[0m\u001b[1;33m}\u001b[0m\u001b[1;33m\u001b[0m\u001b[1;33m\u001b[0m\u001b[0m\n\u001b[0;32m      3\u001b[0m \u001b[1;32mfor\u001b[0m \u001b[0mname\u001b[0m \u001b[1;32min\u001b[0m \u001b[0mnames\u001b[0m\u001b[1;33m:\u001b[0m\u001b[1;33m\u001b[0m\u001b[1;33m\u001b[0m\u001b[0m\n\u001b[1;32m----> 4\u001b[1;33m     \u001b[0mtimeline\u001b[0m \u001b[1;33m=\u001b[0m \u001b[0mget_tweets\u001b[0m\u001b[1;33m(\u001b[0m\u001b[0mapi\u001b[0m\u001b[1;33m=\u001b[0m\u001b[0mapi\u001b[0m\u001b[1;33m,\u001b[0m \u001b[0mscreen_name\u001b[0m\u001b[1;33m=\u001b[0m\u001b[0mname\u001b[0m\u001b[1;33m)\u001b[0m\u001b[1;33m\u001b[0m\u001b[1;33m\u001b[0m\u001b[0m\n\u001b[0m\u001b[0;32m      5\u001b[0m     \u001b[0mtimelines\u001b[0m\u001b[1;33m[\u001b[0m\u001b[0mname\u001b[0m\u001b[1;33m]\u001b[0m \u001b[1;33m=\u001b[0m \u001b[0mtimeline\u001b[0m\u001b[1;33m\u001b[0m\u001b[1;33m\u001b[0m\u001b[0m\n",
      "\u001b[1;32m<ipython-input-2-8c739815aa1e>\u001b[0m in \u001b[0;36mget_tweets\u001b[1;34m(api, screen_name)\u001b[0m\n\u001b[0;32m      1\u001b[0m \u001b[1;32mdef\u001b[0m \u001b[0mget_tweets\u001b[0m\u001b[1;33m(\u001b[0m\u001b[0mapi\u001b[0m\u001b[1;33m=\u001b[0m\u001b[1;32mNone\u001b[0m\u001b[1;33m,\u001b[0m \u001b[0mscreen_name\u001b[0m\u001b[1;33m=\u001b[0m\u001b[1;32mNone\u001b[0m\u001b[1;33m)\u001b[0m\u001b[1;33m:\u001b[0m\u001b[1;33m\u001b[0m\u001b[1;33m\u001b[0m\u001b[0m\n\u001b[0;32m      2\u001b[0m     \u001b[0mtimeline\u001b[0m \u001b[1;33m=\u001b[0m \u001b[0mapi\u001b[0m\u001b[1;33m.\u001b[0m\u001b[0mGetUserTimeline\u001b[0m\u001b[1;33m(\u001b[0m\u001b[0mscreen_name\u001b[0m\u001b[1;33m=\u001b[0m\u001b[0mscreen_name\u001b[0m\u001b[1;33m,\u001b[0m \u001b[0mcount\u001b[0m\u001b[1;33m=\u001b[0m\u001b[1;36m200\u001b[0m\u001b[1;33m)\u001b[0m\u001b[1;33m\u001b[0m\u001b[1;33m\u001b[0m\u001b[0m\n\u001b[1;32m----> 3\u001b[1;33m     \u001b[0mearliest_tweet\u001b[0m \u001b[1;33m=\u001b[0m \u001b[0mmin\u001b[0m\u001b[1;33m(\u001b[0m\u001b[0mtimeline\u001b[0m\u001b[1;33m,\u001b[0m \u001b[0mkey\u001b[0m\u001b[1;33m=\u001b[0m\u001b[1;32mlambda\u001b[0m \u001b[0mx\u001b[0m\u001b[1;33m:\u001b[0m \u001b[0mx\u001b[0m\u001b[1;33m.\u001b[0m\u001b[0mid\u001b[0m\u001b[1;33m)\u001b[0m\u001b[1;33m.\u001b[0m\u001b[0mid\u001b[0m\u001b[1;33m\u001b[0m\u001b[1;33m\u001b[0m\u001b[0m\n\u001b[0m\u001b[0;32m      4\u001b[0m     \u001b[0mprint\u001b[0m\u001b[1;33m(\u001b[0m\u001b[1;34m\"getting tweets before:\"\u001b[0m\u001b[1;33m,\u001b[0m \u001b[0mearliest_tweet\u001b[0m\u001b[1;33m)\u001b[0m\u001b[1;33m\u001b[0m\u001b[1;33m\u001b[0m\u001b[0m\n\u001b[0;32m      5\u001b[0m \u001b[1;33m\u001b[0m\u001b[0m\n",
      "\u001b[1;31mValueError\u001b[0m: min() arg is an empty sequence"
     ]
    }
   ],
   "source": [
    "names = ['elonmusk', 'JoeBiden', 'sundarpichai', 'tim_cook']\n",
    "timelines = {}\n",
    "for name in names:\n",
    "    timeline = get_tweets(api=api, screen_name=name)\n",
    "    timelines[name] = timeline"
   ]
  },
  {
   "cell_type": "code",
   "execution_count": 47,
   "metadata": {},
   "outputs": [
    {
     "data": {
      "text/plain": [
       "Status(ID=1387901003664699392, ScreenName=elonmusk, Created=Thu Apr 29 22:45:59 +0000 2021, Text='A major part of real-world AI has to be solved to make unsupervised, generalized full self-driving work, as the ent… https://t.co/eRFEqUqjV0')"
      ]
     },
     "execution_count": 47,
     "metadata": {},
     "output_type": "execute_result"
    }
   ],
   "source": [
    "timelines['elonmusk'][0]"
   ]
  },
  {
   "cell_type": "code",
   "execution_count": 51,
   "metadata": {},
   "outputs": [],
   "source": [
    "symbols = ['bitcoin', 'doge', 'tesla', 'google', 'apple']\n",
    "df_columns = ['user', 'timestamp', 'tweet text', 'tweet sentiment', 'link', 'included symbols'] + [x + \" Returns\" for x in symbols]"
   ]
  },
  {
   "cell_type": "code",
   "execution_count": 43,
   "metadata": {},
   "outputs": [],
   "source": [
    "symbol_synonyms = {}\n",
    "symbol_synonyms['bitcoin'] = ['btc']\n",
    "symbol_synonyms['doge'] = ['dogecoin']\n",
    "symbol_synonyms['tesla'] = ['tsla']\n",
    "symbol_synonyms['google'] = ['goog', 'alphabet', \"youtube\"]\n",
    "symbol_synonyms['apple'] = ['aapl', 'mac', 'm1']"
   ]
  },
  {
   "cell_type": "code",
   "execution_count": 30,
   "metadata": {},
   "outputs": [
    {
     "name": "stderr",
     "output_type": "stream",
     "text": [
      "[nltk_data] Downloading package vader_lexicon to\n",
      "[nltk_data]     C:\\Users\\Nick\\AppData\\Roaming\\nltk_data...\n"
     ]
    }
   ],
   "source": [
    "import nltk\n",
    "from nltk.sentiment.vader import SentimentIntensityAnalyzer\n",
    "nltk.download('vader_lexicon')\n",
    "sia = SentimentIntensityAnalyzer()"
   ]
  },
  {
   "cell_type": "code",
   "execution_count": 52,
   "metadata": {},
   "outputs": [],
   "source": [
    "import pandas as pd\n",
    "df = pd.DataFrame(columns = df_columns)"
   ]
  },
  {
   "cell_type": "code",
   "execution_count": 53,
   "metadata": {
    "scrolled": true
   },
   "outputs": [],
   "source": [
    "for user in timelines:\n",
    "    for tweet in timelines[user]:\n",
    "        sent = sia.polarity_scores(tweet.text)\n",
    "        symbols_included = []\n",
    "        for symbol in symbols:\n",
    "            if symbol in tweet.text.lower():\n",
    "                symbols_included.append(symbol)\n",
    "                continue\n",
    "            for syn in symbol_synonyms[symbol]:\n",
    "                if syn in tweet.text.lower():\n",
    "                    symbols_included.append(symbol)\n",
    "                    break\n",
    "        dat = [user, tweet.created_at.split(' +')[0], tweet.text, sent['compound'], \"twitter.com/{:s}/status/{:s}\".format(user, str(tweet.id)),symbols_included] + [0 for sym in symbols]\n",
    "\n",
    "        df.loc[len(df)] = dat"
   ]
  },
  {
   "cell_type": "code",
   "execution_count": 4,
   "metadata": {},
   "outputs": [
    {
     "ename": "NameError",
     "evalue": "name 'df' is not defined",
     "output_type": "error",
     "traceback": [
      "\u001b[1;31m---------------------------------------------------------------------------\u001b[0m",
      "\u001b[1;31mNameError\u001b[0m                                 Traceback (most recent call last)",
      "\u001b[1;32m<ipython-input-4-00cf07b74dcd>\u001b[0m in \u001b[0;36m<module>\u001b[1;34m\u001b[0m\n\u001b[1;32m----> 1\u001b[1;33m \u001b[0mdf\u001b[0m\u001b[1;33m\u001b[0m\u001b[1;33m\u001b[0m\u001b[0m\n\u001b[0m",
      "\u001b[1;31mNameError\u001b[0m: name 'df' is not defined"
     ]
    }
   ],
   "source": [
    "df"
   ]
  },
  {
   "cell_type": "code",
   "execution_count": 56,
   "metadata": {},
   "outputs": [],
   "source": [
    "df.to_csv(\"./sample.csv\")"
   ]
  }
 ],
 "metadata": {
  "kernelspec": {
   "display_name": "Python 3",
   "language": "python",
   "name": "python3"
  },
  "language_info": {
   "codemirror_mode": {
    "name": "ipython",
    "version": 3
   },
   "file_extension": ".py",
   "mimetype": "text/x-python",
   "name": "python",
   "nbconvert_exporter": "python",
   "pygments_lexer": "ipython3",
   "version": "3.8.3rc1"
  }
 },
 "nbformat": 4,
 "nbformat_minor": 4
}
