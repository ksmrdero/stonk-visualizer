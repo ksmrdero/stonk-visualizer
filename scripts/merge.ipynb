{
 "metadata": {
  "language_info": {
   "codemirror_mode": {
    "name": "ipython",
    "version": 3
   },
   "file_extension": ".py",
   "mimetype": "text/x-python",
   "name": "python",
   "nbconvert_exporter": "python",
   "pygments_lexer": "ipython3",
   "version": "3.7.9"
  },
  "orig_nbformat": 2,
  "kernelspec": {
   "name": "python379jvsc74a57bd07564143b80d555a91c0bf8d0dd0443cfcc69a2db4a96bb30e006488321617cb7",
   "display_name": "Python 3.7.9 64-bit"
  }
 },
 "nbformat": 4,
 "nbformat_minor": 2,
 "cells": [
  {
   "cell_type": "code",
   "execution_count": 1,
   "metadata": {},
   "outputs": [],
   "source": [
    "import pandas as pd\n",
    "import numpy as np\n"
   ]
  },
  {
   "cell_type": "code",
   "execution_count": 3,
   "metadata": {},
   "outputs": [],
   "source": [
    "stocks = ['GME', 'TSLA', 'SPY', 'AAPL']\n",
    "subs = ['wallstreetbets', 'stocks', 'investing']\n",
    "columns = ['timestamp', 'price_change', 'close', 'score_change', 'raw_score']"
   ]
  },
  {
   "cell_type": "code",
   "execution_count": null,
   "metadata": {},
   "outputs": [],
   "source": [
    "for i in range(len(stocks)):\n",
    "    df = pd.read_csv('data/allhours_change_recent/%s.csv' % stocks[i], header=0)\n",
    "    df['p_change'] = (df['p_change'] * 100).round(decimals=4)\n",
    "    df_red = pd.read_csv('data/reddit/data.csv', header=0)\n",
    "    # df_red.head()\n",
    "    df_red_stock = df_red.loc[df_red.stock == stocks[i]]\n",
    "    res = pd.merge(df, df_red_stock, how=\"inner\", on=\"timestamp\")[columns]\n",
    "    res = res.rename(columns={'p_change':'value'})\n",
    "    res.to_csv('data/merged/%s.csv' % stocks[i])"
   ]
  },
  {
   "cell_type": "code",
   "execution_count": 94,
   "metadata": {},
   "outputs": [],
   "source": [
    "\n",
    "df = pd.read_csv('data/allhours_change_recent/%s.csv' % stocks[0], header=0)\n",
    "df['p_change'] = (df['p_change'] * 100).round(decimals=4)\n",
    "df_red = pd.read_csv('data/reddit/data.csv', header=0)\n",
    "# df_red.head()\n",
    "df_red_stock = df_red.loc[(df_red.stock == stocks[0]) & (df_red['sub'] == subs[1])]\n",
    "res = pd.merge(df, df_red_stock, how=\"inner\", on=\"timestamp\")\n",
    "res.to_csv('test.csv')\n",
    "prices = res.close.to_numpy()\n",
    "change = np.zeros_like(prices)\n",
    "for j in range(1, len(prices)):\n",
    "    change[j] = (prices[j] - prices[j-1]) / prices[j-1] * 100\n",
    "res['change'] = change\n",
    "\n",
    "scores = res.score.to_numpy()\n",
    "score_change = np.zeros_like(scores)\n",
    "for j in range(1, len(scores)):\n",
    "    score_change[j] = (scores[j] - scores[j-1])\n",
    "res['score'] = score_change\n",
    "res = res[columns]\n",
    "res.to_csv('data/new/GME_wallstreetbets.csv')"
   ]
  },
  {
   "cell_type": "code",
   "execution_count": 8,
   "metadata": {
    "tags": []
   },
   "outputs": [],
   "source": [
    "for idx, stock in enumerate(stocks):\n",
    "    for jdx, sub in enumerate(subs):\n",
    "        # if idx != 1 or jdx != 0:\n",
    "        #     continue\n",
    "\n",
    "        df = pd.read_csv('../data/allhours_change_recent/%s.csv' % stock, header=0)\n",
    "        df['p_change'] = (df['p_change'] * 100).round(decimals=4)\n",
    "        df_red = pd.read_csv('../data/reddit/data.csv', header=0)\n",
    "        # df_red.head()\n",
    "        df_red_stock = df_red.loc[(df_red.stock == stock) & (df_red['sub'] == sub)]\n",
    "        res = pd.merge(df, df_red_stock, how=\"inner\", on=\"timestamp\")\n",
    "\n",
    "        prices = res.close.to_numpy()\n",
    "        change = np.zeros_like(prices)\n",
    "        for j in range(1, len(prices)):\n",
    "            change[j] = (prices[j] - prices[j-1]) / prices[j-1] * 100\n",
    "        res['price_change'] = change\n",
    "\n",
    "        pos = res.pos.to_numpy()\n",
    "        neu = res.neu.to_numpy()\n",
    "        neg = res.neg.to_numpy()\n",
    "        numer = pos - neg\n",
    "        denom = pos + neg + neu\n",
    "        raw_scores = numer/(212)*100\n",
    "        # print(raw_scores)\n",
    "        # scores = res.score.to_numpy()\n",
    "        score_change = np.zeros_like(raw_scores)\n",
    "        for j in range(1, len(score_change)):\n",
    "            score_change[j] = (raw_scores[j] - raw_scores[j-1])\n",
    "        res['score_change'] = score_change\n",
    "        res['raw_score'] = raw_scores\n",
    "        # print(res.head())\n",
    "        res = res[columns]\n",
    "        # print(res.head())\n",
    "        res['price_change'] = res['price_change'].round(decimals=2)\n",
    "        res['score_change'] = res['score_change'].round(decimals=2)\n",
    "        res['raw_score'] = res['raw_score'].round(decimals=2)\n",
    "\n",
    "        res.to_csv('../data/new/%s_%s.csv' % (stock, sub))"
   ]
  },
  {
   "source": [
    "Overall Sentimtent"
   ],
   "cell_type": "markdown",
   "metadata": {}
  },
  {
   "cell_type": "code",
   "execution_count": 17,
   "metadata": {},
   "outputs": [],
   "source": [
    "for idx, stock in enumerate(stocks):\n",
    "    for jdx, sub in enumerate(subs):\n",
    "        # if idx != 1 or jdx != 0:\n",
    "        #     continue\n",
    "\n",
    "        df = pd.read_csv('../data/allhours_change_recent/%s.csv' % stock, header=0)\n",
    "        df['p_change'] = (df['p_change'] * 100).round(decimals=4)\n",
    "        df_red = pd.read_csv('../data/reddit/data.csv', header=0)\n",
    "        # df_red.head()\n",
    "        df_red_stock = df_red.loc[(df_red.stock == 'no-filter') & (df_red['sub'] == sub)]\n",
    "        df_red_stock = df_red_stock.groupby('timestamp').sum()\n",
    "        res = pd.merge(df, df_red_stock, how=\"inner\", on=\"timestamp\")\n",
    "\n",
    "        prices = res.close.to_numpy()\n",
    "        change = np.zeros_like(prices)\n",
    "        for j in range(1, len(prices)):\n",
    "            change[j] = (prices[j] - prices[j-1]) / prices[j-1] * 100\n",
    "        res['price_change'] = change\n",
    "\n",
    "        pos = res.pos.to_numpy()\n",
    "        neu = res.neu.to_numpy()\n",
    "        neg = res.neg.to_numpy()\n",
    "        numer = pos - neg\n",
    "        denom = pos + neg + neu\n",
    "        raw_scores = numer/(212)*100\n",
    "        # print(raw_scores)\n",
    "        # scores = res.score.to_numpy()\n",
    "        score_change = np.zeros_like(raw_scores)\n",
    "        for j in range(1, len(score_change)):\n",
    "            score_change[j] = (raw_scores[j] - raw_scores[j-1])\n",
    "        res['score_change'] = score_change\n",
    "        res['raw_score'] = raw_scores\n",
    "        # print(res.head())\n",
    "        res = res[columns]\n",
    "        # print(res.head())\n",
    "        res['price_change'] = res['price_change'].round(decimals=2)\n",
    "        res['score_change'] = res['score_change'].round(decimals=2)\n",
    "        res['raw_score'] = res['raw_score'].round(decimals=2)\n",
    "\n",
    "        res.to_csv('../data/new/%s_%s.csv' % (stock, sub))"
   ]
  },
  {
   "cell_type": "code",
   "execution_count": 112,
   "metadata": {},
   "outputs": [
    {
     "output_type": "execute_result",
     "data": {
      "text/plain": [
       "212"
      ]
     },
     "metadata": {},
     "execution_count": 112
    }
   ],
   "source": [
    "df_red\n",
    "o_pos = df_red.pos.to_numpy()\n",
    "o_neu = df_red.neu.to_numpy()\n",
    "o_neg = df_red.neg.to_numpy()\n",
    "np.max(o_pos+o_neg+o_neu)"
   ]
  }
 ]
}