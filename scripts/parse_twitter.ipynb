{
 "metadata": {
  "language_info": {
   "codemirror_mode": {
    "name": "ipython",
    "version": 3
   },
   "file_extension": ".py",
   "mimetype": "text/x-python",
   "name": "python",
   "nbconvert_exporter": "python",
   "pygments_lexer": "ipython3",
   "version": "3.7.9"
  },
  "orig_nbformat": 2,
  "kernelspec": {
   "name": "python379jvsc74a57bd07564143b80d555a91c0bf8d0dd0443cfcc69a2db4a96bb30e006488321617cb7",
   "display_name": "Python 3.7.9 64-bit"
  }
 },
 "nbformat": 4,
 "nbformat_minor": 2,
 "cells": [
  {
   "cell_type": "code",
   "execution_count": 1,
   "metadata": {},
   "outputs": [],
   "source": [
    "import pandas as pd\n",
    "import numpy as np\n",
    "import datetime"
   ]
  },
  {
   "cell_type": "code",
   "execution_count": 44,
   "metadata": {},
   "outputs": [],
   "source": [
    "def get_price(df, date, start):\n",
    "    data = df.loc[df.date == date].close.to_numpy()\n",
    "    if len(data) == 0:\n",
    "        return -1\n",
    "    if start:\n",
    "        price = data[0]\n",
    "    else:\n",
    "        price = data[-1]\n",
    "    return price"
   ]
  },
  {
   "cell_type": "code",
   "execution_count": 64,
   "metadata": {
    "tags": []
   },
   "outputs": [],
   "source": [
    "df_tweet = pd.read_csv('../data/twitter/tweets.csv', header=0, dtype=object)\n",
    "df_goog = pd.read_csv('../data/prices/GOOG.csv', header=0)\n",
    "df_tweet = df_tweet[df_tweet.included_symbols != '[]']\n",
    "\n",
    "b = ['Apr', 'Mar', 'Feb', 'Jan']\n",
    "monthDict0 = {1:'Jan', 2:'Feb', 3:'Mar', 4:'Apr', 5:'May', 6:'Jun', \n",
    "            7:'Jul', 8:'Aug', 9:'Sep', 10:'Oct', 11:'Nov', 12:'Dec'}\n",
    "monthDict = dict((y,x) for x,y in monthDict0.items())\n",
    "# need to reconvert timestamps\n",
    "timestamps = df_tweet.timestamp.to_numpy()\n",
    "t = np.zeros_like(timestamps)\n",
    "p_change = np.zeros_like(timestamps)\n",
    "for i, time in enumerate(timestamps):\n",
    "    _, month, day, hms = time.split()\n",
    "    if month in b:\n",
    "        year = 2021\n",
    "    else:\n",
    "        year = 2020\n",
    "    \n",
    "    new_time = '%s-%s-%s %s'%(year, monthDict[month], day, hms)\n",
    "    time_obj = datetime.datetime.strptime(new_time, '%Y-%m-%d %H:%M:%S')\n",
    "    next_day_obj = time_obj + datetime.timedelta(days=1)\n",
    "    curr_day = time_obj.strftime('%Y-%m-%d')\n",
    "    next_day = next_day_obj.strftime('%Y-%m-%d')\n",
    "    \n",
    "    curr_price = get_price(df_goog, ' ' + curr_day, False)\n",
    "    next_price = get_price(df_goog, ' ' + next_day, True)\n",
    "\n",
    "    # find %change\n",
    "    if curr_price or next_price == -1:\n",
    "        change = -1\n",
    "    else:\n",
    "        change = ((next_price - curr_price) / next_price) * 100\n",
    "    p_change[i] = change\n",
    "\n",
    "\n",
    "    t[i] = int(time_obj.timestamp())\n",
    "\n",
    "df_tweet.timestamp = t\n",
    "df_tweet['p_change'] = p_change\n",
    "# df_s = pd.to_datetime(df_tweet['timestamp'])\n",
    "# res = pd.merge(df_tweet, df_goog, how=\"inner\", on=\"timestamp\")\n",
    "# res.head()\n",
    "df_tweet.to_csv('../data/twitter/tweet_change.csv')"
   ]
  },
  {
   "cell_type": "code",
   "execution_count": 40,
   "metadata": {},
   "outputs": [
    {
     "output_type": "execute_result",
     "data": {
      "text/plain": [
       "'2021-05'"
      ]
     },
     "metadata": {},
     "execution_count": 40
    }
   ],
   "source": [
    "df_goog = pd.read_csv('../data/prices/GOOG.csv', header=0)\n",
    "# df_goog.date = df_goog.date.astype('str')\n",
    "# df_goog.loc[df_goog.date == ' 2021-02-16'].close.to_numpy()\n",
    "now = datetime.datetime.now() # current date and time\n",
    "\n",
    "year = now.strftime(\"%Y-%m\")\n",
    "year"
   ]
  },
  {
   "cell_type": "code",
   "execution_count": 65,
   "metadata": {},
   "outputs": [],
   "source": [
    "df = pd.read_csv('../data/twitter/tweets.csv', header=0, dtype=object)\n",
    "df.head()\n",
    "df = df[df.included_symbols != '[]']\n",
    "df.to_csv('../data/twitter/cleaned.csv')"
   ]
  },
  {
   "cell_type": "code",
   "execution_count": 9,
   "metadata": {},
   "outputs": [],
   "source": [
    "df = pd.read_csv('../data/final_new_data/final_tweet_data.csv')\r\n",
    "cols = ['BTC_returns', 'DOGE_returns', 'TSLA_returns', 'GOOG_returns', 'AAPL_returns', 'GME_returns', 'SPY_returns']\r\n",
    "users = df.user.unique()\r\n",
    "for user in users:\r\n",
    "    tmp = df[df.user == user]\r\n",
    "    tmp.to_csv('../data/final_new_data/%s.csv'%(user))\r\n"
   ]
  },
  {
   "cell_type": "code",
   "execution_count": null,
   "metadata": {},
   "outputs": [],
   "source": []
  }
 ]
}