{
 "cells": [
  {
   "cell_type": "code",
   "execution_count": 1,
   "metadata": {},
   "outputs": [],
   "source": [
    "import argparse\n",
    "import datetime\n",
    "import collections\n",
    "import inspect\n",
    "\n",
    "import logging\n",
    "import time\n",
    "import os.path\n",
    "import sys\n",
    "\n",
    "import threading\n",
    "\n",
    "sys.path.insert(0, \"/Jts/tws api/source/pythonclient\")\n",
    "\n",
    "\n",
    "from ibapi import wrapper\n",
    "from ibapi import utils\n",
    "from ibapi.client import EClient\n",
    "from ibapi.utils import iswrapper\n",
    "\n",
    "from ibapi.common import * # @UnusedWildImport\n",
    "from ibapi.order_condition import * # @UnusedWildImport\n",
    "from ibapi.contract import * # @UnusedWildImport\n",
    "from ibapi.order import * # @UnusedWildImport\n",
    "from ibapi.order_state import * # @UnusedWildImport\n",
    "from ibapi.execution import Execution\n",
    "from ibapi.execution import ExecutionFilter\n",
    "from ibapi.commission_report import CommissionReport\n",
    "from ibapi.ticktype import * # @UnusedWildImport\n",
    "from ibapi.tag_value import TagValue\n",
    "\n",
    "from ibapi.account_summary_tags import *\n",
    "import pickle\n",
    "import matplotlib.pyplot as plt\n",
    "\n",
    "\n"
   ]
  },
  {
   "cell_type": "code",
   "execution_count": 2,
   "metadata": {},
   "outputs": [],
   "source": [
    "class TestWrapper(wrapper.EWrapper):\n",
    "    # ! [ewrapperimpl]\n",
    "    def __init__(self):\n",
    "        wrapper.EWrapper.__init__(self)\n",
    "\n",
    "class TestClient(EClient):\n",
    "    def __init__(self, wrapper):\n",
    "        EClient.__init__(self, wrapper)\n",
    "\n",
    "class TestApp(TestWrapper, TestClient):\n",
    "    def __init__(self):\n",
    "        TestWrapper.__init__(self)\n",
    "        TestClient.__init__(self, wrapper=self)\n",
    "    def historicalData(self, reqId, bar):\n",
    "        global sym_hist\n",
    "        global sym\n",
    "        sym_hist[sym].append(bar)\n",
    "        #print(bar)\n",
    "        \n",
    "        \n",
    "    def historicalDataEnd(self, reqId, start, end):\n",
    "        global ip_requests\n",
    "        print(\"finished request\", reqId, time.time())\n",
    "        ip_requests -= 1\n",
    "    \n",
    "    def headTimestamp(self, reqId:int, headTimestamp:str):\n",
    "        print(headTimestamp)\n",
    "    def tickSnapshotEnd(self, reqId: int):\n",
    "        super().tickSnapshotEnd(reqId)\n",
    "        print(\"TickSnapshotEnd. TickerId:\", reqId)\n",
    "    def tickPrice(self, reqId: TickerId, tickType: TickType, price: float,\n",
    "                  attrib: TickAttrib):\n",
    "        super().tickPrice(reqId, tickType, price, attrib)\n",
    "        print(\"TickPrice for time {t}. TickerId:\".format(t = time.time()), reqId, \"tickType:\", tickType,\n",
    "              \"Price:\", price, \"CanAutoExecute:\", attrib.canAutoExecute,\n",
    "              \"PastLimit:\", attrib.pastLimit, end=' ')\n",
    "        if tickType == TickTypeEnum.BID or tickType == TickTypeEnum.ASK:\n",
    "            print(\"PreOpen:\", attrib.preOpen)\n",
    "        else:\n",
    "            print()\n",
    "    # ! [tickprice]\n",
    "\n",
    "    @iswrapper\n",
    "    # ! [ticksize]\n",
    "    def tickSize(self, reqId: TickerId, tickType: TickType, size: int):\n",
    "        super().tickSize(reqId, tickType, size)\n",
    "        print(\"TickSize. TickerId:\", reqId, \"TickType:\", tickType, \"Size:\", size)\n",
    "    # ! [ticksize]\n",
    "\n",
    "    @iswrapper\n",
    "    # ! [tickgeneric]\n",
    "    def tickGeneric(self, reqId: TickerId, tickType: TickType, value: float):\n",
    "        super().tickGeneric(reqId, tickType, value)\n",
    "        print(\"TickGeneric. TickerId:\", reqId, \"TickType:\", tickType, \"Value:\", value)\n",
    "    # ! [tickgeneric]\n",
    "\n",
    "    @iswrapper\n",
    "    # ! [tickstring]\n",
    "    def tickString(self, reqId: TickerId, tickType: TickType, value: str):\n",
    "        super().tickString(reqId, tickType, value)\n",
    "        print(\"TickString for time {t}. TickerId:\".format(t = time.time()), reqId, \"Type:\", tickType, \"Value:\", value)\n",
    "    def realtimeBar(self, reqId: TickerId, time_t:int, open_: float, high: float, low: float, close: float,\n",
    "                       volume: int, wap: float, count: int):\n",
    "        super().realtimeBar(reqId, time_t, open_, high, low, close, volume, wap, count)\n",
    "        print(\"RealTimeBar time {t}. TickerId:\".format(t = time.time()), reqId, RealTimeBar(time_t, -1, open_, high, low, close, volume, wap, count))"
   ]
  },
  {
   "cell_type": "code",
   "execution_count": 3,
   "metadata": {},
   "outputs": [],
   "source": [
    "app = TestApp()\n",
    "app.connect(\"127.0.0.1\", 7497, clientId=1)"
   ]
  },
  {
   "cell_type": "code",
   "execution_count": 4,
   "metadata": {},
   "outputs": [],
   "source": [
    "def run_loop():\n",
    "    app.run()\n",
    "api_thread = threading.Thread(target=run_loop, daemon=True)\n",
    "api_thread.start()"
   ]
  },
  {
   "cell_type": "code",
   "execution_count": 5,
   "metadata": {},
   "outputs": [],
   "source": [
    "c = Contract()\n",
    "c.symbol = \"SPY\"\n",
    "c.secType = 'STK'\n",
    "c.exchange = 'SMART'\n",
    "c.currency = 'USD'\n",
    "sym_hist = {}\n",
    "\n",
    "ip_requests = 0"
   ]
  },
  {
   "cell_type": "code",
   "execution_count": 6,
   "metadata": {},
   "outputs": [
    {
     "name": "stderr",
     "output_type": "stream",
     "text": [
      "ERROR -1 2104 Market data farm connection is OK:usfuture.nj\n",
      "ERROR -1 2104 Market data farm connection is OK:usfarm.nj\n",
      "ERROR -1 2104 Market data farm connection is OK:hfarm\n",
      "ERROR -1 2104 Market data farm connection is OK:eufarm\n",
      "ERROR -1 2104 Market data farm connection is OK:jfarm\n",
      "ERROR -1 2104 Market data farm connection is OK:usfuture\n",
      "ERROR -1 2104 Market data farm connection is OK:cashfarm\n",
      "ERROR -1 2104 Market data farm connection is OK:usfarm\n",
      "ERROR -1 2106 HMDS data farm connection is OK:euhmds\n",
      "ERROR -1 2106 HMDS data farm connection is OK:cashhmds\n",
      "ERROR -1 2106 HMDS data farm connection is OK:fundfarm\n",
      "ERROR -1 2106 HMDS data farm connection is OK:ushmds\n",
      "ERROR -1 2158 Sec-def data farm connection is OK:secdefil\n"
     ]
    }
   ],
   "source": [
    "import os.path\n",
    "from os import path\n",
    "import pandas as pd\n"
   ]
  },
  {
   "cell_type": "code",
   "execution_count": 8,
   "metadata": {
    "scrolled": true
   },
   "outputs": [
    {
     "name": "stdout",
     "output_type": "stream",
     "text": [
      "Starting DIA\n",
      "starting request 0 1614642852.50274 20210301 17:00:00\n",
      "starting request 1 1614642852.5037258 20210222 17:00:00\n",
      "finished request 0 1614642852.8438175\n",
      "finished request 1 1614642852.947562\n",
      "Finished DIA\n"
     ]
    }
   ],
   "source": [
    "symbols = list(pd.read_csv(\"../datasets/etfs.csv\", header = None)[0])\n",
    "symbols += list(pd.read_csv(\"../datasets/60 symbols.csv\", header = None)[0])\n",
    "symbols = ['SPY', 'GME','TSLA','GOOG','AAPL','GLD','DIA']\n",
    "#symbols = ['SPY', 'AAPL', 'MSFT', 'AMZN', 'BRK B', 'FB', 'JNJ', 'JPM', 'XOM', 'GOOG', 'GOOGL', 'BAC', 'PFE', 'UNH', 'V', 'T', 'WFC', 'CVX', 'VZ', 'HD', 'INTC']\n",
    "start_time = datetime.datetime(2021, 5, 3, 17, 0)\n",
    "for sym in symbols:\n",
    "    ip_requests = 0\n",
    "    sym_hist[sym] = []\n",
    "    c.symbol = sym\n",
    "    #if path.exists(\"./ibapi_60s3_{s}.pkl\".format(s=sym)):\n",
    "    #    sym_hist[sym] = pickle.load(open(\"./ibapi_60s3_{s}.pkl\".format(s=sym),\"rb\"))\n",
    "    print(\"Starting\", sym)\n",
    "    for i in range(2):\n",
    "        waits = 0\n",
    "        while ip_requests >= 5:\n",
    "            time.sleep(1)\n",
    "            waits += 1\n",
    "            if waits > 600:\n",
    "                break\n",
    "        if waits > 600:\n",
    "            print(\"timing out\")\n",
    "            break\n",
    "        \n",
    "        q = start_time - datetime.timedelta(days = 7*i)\n",
    "        #if q.weekday() > 4:\n",
    "        #    continue\n",
    "            \n",
    "        ip_requests += 1\n",
    "        queryTime = (q).strftime(\"%Y%m%d %H:%M:%S\")\n",
    "        print(\"starting request\", i, time.time(), queryTime)\n",
    "        app.reqHistoricalData(i, c,queryTime,\"1 W\",'1 min', \"TRADES\", 0, 2, False, [])\n",
    "    time.sleep(120)\n",
    "    print(\"Finished\", sym)\n",
    "    pickle.dump(sym_hist[sym], open(\"../467_data/{s}.pkl\".format(s=sym), \"wb\"))\n",
    "    ip_requests = 0\n",
    "#app.reqHeadTimeStamp(4103, c, \"MIDPOINT\", 0, 1)\n",
    "#app.reqRealTimeBars(3004, c, 5, \"MIDPOINT\", True, [])\n",
    "#app.reqMktData(1, c, \"233\", False, False, [])"
   ]
  },
  {
   "cell_type": "code",
   "execution_count": null,
   "metadata": {},
   "outputs": [],
   "source": [
    "print(len(sym_hist['SPY']))\n",
    "print(sym_hist['SPY'][-1])\n"
   ]
  },
  {
   "cell_type": "code",
   "execution_count": null,
   "metadata": {},
   "outputs": [],
   "source": [
    "pickle.dump(sym_hist['BAC'], open(\"./ibapi_BAC.pkl\".format(s=sym), \"wb\"))"
   ]
  },
  {
   "cell_type": "code",
   "execution_count": null,
   "metadata": {},
   "outputs": [],
   "source": [
    "sym_hist[]"
   ]
  },
  {
   "cell_type": "code",
   "execution_count": null,
   "metadata": {},
   "outputs": [],
   "source": [
    "for key in sym_hist:\n",
    "    print(len(sym_hist[key]))"
   ]
  },
  {
   "cell_type": "code",
   "execution_count": null,
   "metadata": {},
   "outputs": [],
   "source": [
    "import matplotlib.pyplot as plt\n",
    "sym_dic = {}\n",
    "for bar in sym_hist['SPY']:\n",
    "    sym_dic[bar.date] = bar"
   ]
  },
  {
   "cell_type": "code",
   "execution_count": null,
   "metadata": {},
   "outputs": [],
   "source": [
    "ts_list = list(sym_dic.keys())\n",
    "ts_list.sort()"
   ]
  },
  {
   "cell_type": "code",
   "execution_count": null,
   "metadata": {},
   "outputs": [],
   "source": [
    "plt.plot(ts_list, [sym_dic[ts].close for ts in ts_list])\n",
    "plt.show()"
   ]
  },
  {
   "cell_type": "code",
   "execution_count": null,
   "metadata": {},
   "outputs": [],
   "source": [
    "app.reqHistoricalData(1, c,\"\",\"1 D\",'1 min', \"MIDPOINT\", 1, 1, False, [])"
   ]
  },
  {
   "cell_type": "code",
   "execution_count": null,
   "metadata": {},
   "outputs": [],
   "source": [
    "len(sym_hist[sym])"
   ]
  }
 ],
 "metadata": {
  "kernelspec": {
   "display_name": "Python 3",
   "language": "python",
   "name": "python3"
  },
  "language_info": {
   "codemirror_mode": {
    "name": "ipython",
    "version": 3
   },
   "file_extension": ".py",
   "mimetype": "text/x-python",
   "name": "python",
   "nbconvert_exporter": "python",
   "pygments_lexer": "ipython3",
   "version": "3.8.3rc1"
  }
 },
 "nbformat": 4,
 "nbformat_minor": 4
}
