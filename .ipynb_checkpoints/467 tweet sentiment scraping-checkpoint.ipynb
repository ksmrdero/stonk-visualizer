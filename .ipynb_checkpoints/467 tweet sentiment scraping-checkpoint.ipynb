{
 "cells": [
  {
   "cell_type": "code",
   "execution_count": 1,
   "metadata": {},
   "outputs": [],
   "source": [
    "import twitter\n",
    "api_key = \"hSRo8Qzpisjny0tHxiwgLmARc\"\n",
    "secret_key = \"sjchcV9k6cVKL8tvhmoWAZk0X1goayiIyZF272zSTXoT10ZjNO\"\n",
    "bearer_token = \"AAAAAAAAAAAAAAAAAAAAAMdWPAEAAAAAtKCKcmghy%2BtURo1%2FNSu642EC6pk%3DnIdNiQZLHBSMzgpUbBldmtNbi8tDLQCoDO3Zbm9ULTtHMpCAwc\"\n",
    "access_token = \"1327408007412637696-Op2eyy7CdeoMwWL4t3hyka93j2Nsn2\"\n",
    "access_token_secret = \"laX2RvuanrbWOsRsJ78jzYoIXGZl8f68tD52uzZKwm3v0\"\n",
    "\n",
    "api = twitter.Api(consumer_key=api_key, consumer_secret=secret_key, access_token_key=access_token, access_token_secret=access_token_secret)"
   ]
  },
  {
   "cell_type": "code",
   "execution_count": 11,
   "metadata": {},
   "outputs": [],
   "source": [
    "def get_tweets(api=None, screen_name=None):\n",
    "    timeline = api.GetUserTimeline(screen_name=screen_name, count=200)\n",
    "    earliest_tweet = min(timeline, key=lambda x: x.id).id\n",
    "    print(\"getting tweets before:\", earliest_tweet)\n",
    "\n",
    "    while True:\n",
    "        try:\n",
    "            tweets = api.GetUserTimeline(\n",
    "                screen_name=screen_name, max_id=earliest_tweet, count=200\n",
    "            )\n",
    "            new_earliest = min(tweets, key=lambda x: x.id).id\n",
    "\n",
    "            if not tweets or new_earliest == earliest_tweet:\n",
    "                break\n",
    "            else:\n",
    "                earliest_tweet = new_earliest\n",
    "                print(\"getting tweets before:\", earliest_tweet)\n",
    "                timeline += tweets\n",
    "        except:\n",
    "            break\n",
    "\n",
    "    return timeline\n"
   ]
  },
  {
   "cell_type": "code",
   "execution_count": 12,
   "metadata": {},
   "outputs": [
    {
     "name": "stdout",
     "output_type": "stream",
     "text": [
      "getting tweets before: 1387901003664699392\n",
      "getting tweets before: 1380334998524321792\n",
      "getting tweets before: 1350562220367884289\n",
      "getting tweets before: 1336495783038701568\n",
      "getting tweets before: 1323867320826109954\n",
      "getting tweets before: 1322304775740887042\n",
      "getting tweets before: 1318919971653578752\n",
      "getting tweets before: 1314346083087257603\n",
      "getting tweets before: 1310652208208318465\n",
      "getting tweets before: 1236709482811408384\n",
      "getting tweets before: 1046863327262007296\n",
      "getting tweets before: 874713468498190336\n",
      "getting tweets before: 707621349020160000\n",
      "getting tweets before: 595449287460261888\n",
      "getting tweets before: 373517646576119808\n",
      "getting tweets before: 32705195947327488\n",
      "getting tweets before: 770226665\n",
      "getting tweets before: 1221050820483002368\n",
      "getting tweets before: 1129601110178717696\n",
      "getting tweets before: 1019601845453373441\n",
      "getting tweets before: 871513064088064000\n",
      "getting tweets before: 641789184546500609\n",
      "getting tweets before: 381131235247923201\n"
     ]
    }
   ],
   "source": [
    "names = ['elonmusk', 'JoeBiden', 'sundarpichai', 'tim_cook']\n",
    "timelines = {}\n",
    "for name in names:\n",
    "    timeline = get_tweets(api=api, screen_name=name)\n",
    "    timelines[name] = timeline"
   ]
  },
  {
   "cell_type": "code",
   "execution_count": 47,
   "metadata": {},
   "outputs": [
    {
     "data": {
      "text/plain": [
       "Status(ID=1387901003664699392, ScreenName=elonmusk, Created=Thu Apr 29 22:45:59 +0000 2021, Text='A major part of real-world AI has to be solved to make unsupervised, generalized full self-driving work, as the ent… https://t.co/eRFEqUqjV0')"
      ]
     },
     "execution_count": 47,
     "metadata": {},
     "output_type": "execute_result"
    }
   ],
   "source": [
    "timelines['elonmusk'][0]"
   ]
  },
  {
   "cell_type": "code",
   "execution_count": 51,
   "metadata": {},
   "outputs": [],
   "source": [
    "symbols = ['bitcoin', 'doge', 'tesla', 'google', 'apple']\n",
    "df_columns = ['user', 'timestamp', 'tweet text', 'tweet sentiment', 'link', 'included symbols'] + [x + \" Returns\" for x in symbols]"
   ]
  },
  {
   "cell_type": "code",
   "execution_count": 43,
   "metadata": {},
   "outputs": [],
   "source": [
    "symbol_synonyms = {}\n",
    "symbol_synonyms['bitcoin'] = ['btc']\n",
    "symbol_synonyms['doge'] = ['dogecoin']\n",
    "symbol_synonyms['tesla'] = ['tsla']\n",
    "symbol_synonyms['google'] = ['goog', 'alphabet', \"youtube\"]\n",
    "symbol_synonyms['apple'] = ['aapl', 'mac', 'm1']"
   ]
  },
  {
   "cell_type": "code",
   "execution_count": 30,
   "metadata": {},
   "outputs": [
    {
     "name": "stderr",
     "output_type": "stream",
     "text": [
      "[nltk_data] Downloading package vader_lexicon to\n",
      "[nltk_data]     C:\\Users\\Nick\\AppData\\Roaming\\nltk_data...\n"
     ]
    }
   ],
   "source": [
    "import nltk\n",
    "from nltk.sentiment.vader import SentimentIntensityAnalyzer\n",
    "nltk.download('vader_lexicon')\n",
    "sia = SentimentIntensityAnalyzer()"
   ]
  },
  {
   "cell_type": "code",
   "execution_count": 52,
   "metadata": {},
   "outputs": [],
   "source": [
    "import pandas as pd\n",
    "df = pd.DataFrame(columns = df_columns)"
   ]
  },
  {
   "cell_type": "code",
   "execution_count": 53,
   "metadata": {
    "scrolled": true
   },
   "outputs": [],
   "source": [
    "for user in timelines:\n",
    "    for tweet in timelines[user]:\n",
    "        sent = sia.polarity_scores(tweet.text)\n",
    "        symbols_included = []\n",
    "        for symbol in symbols:\n",
    "            if symbol in tweet.text.lower():\n",
    "                symbols_included.append(symbol)\n",
    "                continue\n",
    "            for syn in symbol_synonyms[symbol]:\n",
    "                if syn in tweet.text.lower():\n",
    "                    symbols_included.append(symbol)\n",
    "                    break\n",
    "        dat = [user, tweet.created_at.split(' +')[0], tweet.text, sent['compound'], \"twitter.com/{:s}/status/{:s}\".format(user, str(tweet.id)),symbols_included] + [0 for sym in symbols]\n",
    "\n",
    "        df.loc[len(df)] = dat"
   ]
  },
  {
   "cell_type": "code",
   "execution_count": 54,
   "metadata": {},
   "outputs": [
    {
     "data": {
      "text/html": [
       "<div>\n",
       "<style scoped>\n",
       "    .dataframe tbody tr th:only-of-type {\n",
       "        vertical-align: middle;\n",
       "    }\n",
       "\n",
       "    .dataframe tbody tr th {\n",
       "        vertical-align: top;\n",
       "    }\n",
       "\n",
       "    .dataframe thead th {\n",
       "        text-align: right;\n",
       "    }\n",
       "</style>\n",
       "<table border=\"1\" class=\"dataframe\">\n",
       "  <thead>\n",
       "    <tr style=\"text-align: right;\">\n",
       "      <th></th>\n",
       "      <th>user</th>\n",
       "      <th>timestamp</th>\n",
       "      <th>tweet text</th>\n",
       "      <th>tweet sentiment</th>\n",
       "      <th>link</th>\n",
       "      <th>included symbols</th>\n",
       "      <th>bitcoin Returns</th>\n",
       "      <th>doge Returns</th>\n",
       "      <th>tesla Returns</th>\n",
       "      <th>google Returns</th>\n",
       "      <th>apple Returns</th>\n",
       "    </tr>\n",
       "  </thead>\n",
       "  <tbody>\n",
       "    <tr>\n",
       "      <th>0</th>\n",
       "      <td>elonmusk</td>\n",
       "      <td>Thu Apr 29 22:45:59</td>\n",
       "      <td>A major part of real-world AI has to be solved...</td>\n",
       "      <td>0.2732</td>\n",
       "      <td>twitter.com/elonmusk/status/1387901003664699392</td>\n",
       "      <td>[]</td>\n",
       "      <td>0</td>\n",
       "      <td>0</td>\n",
       "      <td>0</td>\n",
       "      <td>0</td>\n",
       "      <td>0</td>\n",
       "    </tr>\n",
       "    <tr>\n",
       "      <th>1</th>\n",
       "      <td>elonmusk</td>\n",
       "      <td>Thu Apr 29 22:45:59</td>\n",
       "      <td>A major part of real-world AI has to be solved...</td>\n",
       "      <td>0.2732</td>\n",
       "      <td>twitter.com/elonmusk/status/1387901003664699392</td>\n",
       "      <td>[]</td>\n",
       "      <td>0</td>\n",
       "      <td>0</td>\n",
       "      <td>0</td>\n",
       "      <td>0</td>\n",
       "      <td>0</td>\n",
       "    </tr>\n",
       "    <tr>\n",
       "      <th>2</th>\n",
       "      <td>elonmusk</td>\n",
       "      <td>Thu Apr 29 22:30:29</td>\n",
       "      <td>@WholeMarsBlog Exactly!</td>\n",
       "      <td>0.0000</td>\n",
       "      <td>twitter.com/elonmusk/status/1387897099983990793</td>\n",
       "      <td>[]</td>\n",
       "      <td>0</td>\n",
       "      <td>0</td>\n",
       "      <td>0</td>\n",
       "      <td>0</td>\n",
       "      <td>0</td>\n",
       "    </tr>\n",
       "    <tr>\n",
       "      <th>3</th>\n",
       "      <td>elonmusk</td>\n",
       "      <td>Thu Apr 29 22:19:17</td>\n",
       "      <td>@teslaownersSV Was using this in my car last n...</td>\n",
       "      <td>0.0000</td>\n",
       "      <td>twitter.com/elonmusk/status/1387894284041527297</td>\n",
       "      <td>[tesla]</td>\n",
       "      <td>0</td>\n",
       "      <td>0</td>\n",
       "      <td>0</td>\n",
       "      <td>0</td>\n",
       "      <td>0</td>\n",
       "    </tr>\n",
       "    <tr>\n",
       "      <th>4</th>\n",
       "      <td>elonmusk</td>\n",
       "      <td>Thu Apr 29 22:16:56</td>\n",
       "      <td>@teslaownersSV FSD display V9.0 will show actu...</td>\n",
       "      <td>0.7255</td>\n",
       "      <td>twitter.com/elonmusk/status/1387893690354515970</td>\n",
       "      <td>[tesla]</td>\n",
       "      <td>0</td>\n",
       "      <td>0</td>\n",
       "      <td>0</td>\n",
       "      <td>0</td>\n",
       "      <td>0</td>\n",
       "    </tr>\n",
       "  </tbody>\n",
       "</table>\n",
       "</div>"
      ],
      "text/plain": [
       "       user            timestamp  \\\n",
       "0  elonmusk  Thu Apr 29 22:45:59   \n",
       "1  elonmusk  Thu Apr 29 22:45:59   \n",
       "2  elonmusk  Thu Apr 29 22:30:29   \n",
       "3  elonmusk  Thu Apr 29 22:19:17   \n",
       "4  elonmusk  Thu Apr 29 22:16:56   \n",
       "\n",
       "                                          tweet text  tweet sentiment  \\\n",
       "0  A major part of real-world AI has to be solved...           0.2732   \n",
       "1  A major part of real-world AI has to be solved...           0.2732   \n",
       "2                            @WholeMarsBlog Exactly!           0.0000   \n",
       "3  @teslaownersSV Was using this in my car last n...           0.0000   \n",
       "4  @teslaownersSV FSD display V9.0 will show actu...           0.7255   \n",
       "\n",
       "                                              link included symbols  \\\n",
       "0  twitter.com/elonmusk/status/1387901003664699392               []   \n",
       "1  twitter.com/elonmusk/status/1387901003664699392               []   \n",
       "2  twitter.com/elonmusk/status/1387897099983990793               []   \n",
       "3  twitter.com/elonmusk/status/1387894284041527297          [tesla]   \n",
       "4  twitter.com/elonmusk/status/1387893690354515970          [tesla]   \n",
       "\n",
       "  bitcoin Returns doge Returns tesla Returns google Returns apple Returns  \n",
       "0               0            0             0              0             0  \n",
       "1               0            0             0              0             0  \n",
       "2               0            0             0              0             0  \n",
       "3               0            0             0              0             0  \n",
       "4               0            0             0              0             0  "
      ]
     },
     "execution_count": 54,
     "metadata": {},
     "output_type": "execute_result"
    }
   ],
   "source": [
    "df.head()\n"
   ]
  },
  {
   "cell_type": "code",
   "execution_count": 56,
   "metadata": {},
   "outputs": [],
   "source": [
    "df.to_csv(\"./sample.csv\")"
   ]
  }
 ],
 "metadata": {
  "kernelspec": {
   "display_name": "Python 3",
   "language": "python",
   "name": "python3"
  },
  "language_info": {
   "codemirror_mode": {
    "name": "ipython",
    "version": 3
   },
   "file_extension": ".py",
   "mimetype": "text/x-python",
   "name": "python",
   "nbconvert_exporter": "python",
   "pygments_lexer": "ipython3",
   "version": "3.8.3rc1"
  }
 },
 "nbformat": 4,
 "nbformat_minor": 4
}
